{
 "cells": [
  {
   "cell_type": "code",
   "execution_count": 1,
   "id": "4d0545e6",
   "metadata": {},
   "outputs": [],
   "source": [
    "import pandas as pd\n",
    "import numpy as np\n",
    "\n",
    "import scipy.io as sio\n",
    "import matplotlib.pyplot as plt\n",
    "%matplotlib inline\n",
    "import matplotlib\n",
    "matplotlib.rcParams['font.size'] = 8.0\n",
    "matplotlib.rcParams['pdf.fonttype'] = 42"
   ]
  },
  {
   "cell_type": "code",
   "execution_count": 2,
   "id": "228e591a",
   "metadata": {},
   "outputs": [],
   "source": [
    "def getTrialAlignment(index, unittp):\n",
    "    repeats = []\n",
    "    for idx_st, idx_stop in zip(index['index_starts'], index['index_stops']):\n",
    "        rep = unittp[(unittp > idx_st) & (unittp < idx_stop)].values\n",
    "        rep = rep - idx_st\n",
    "        repeats.append(rep)\n",
    "    return repeats"
   ]
  },
  {
   "cell_type": "code",
   "execution_count": 3,
   "id": "2de2dd38",
   "metadata": {},
   "outputs": [],
   "source": [
    "# input all parameters\n",
    "Fs = 3e4\n",
    "TimeHistory = 20e-3 # in seconds\n",
    "TimePost = 2e-3 # in seconds"
   ]
  },
  {
   "cell_type": "code",
   "execution_count": 4,
   "id": "4006d809",
   "metadata": {},
   "outputs": [],
   "source": [
    "# read in the index based on stimulus repeats\n",
    "name = 'm10_whiteNoise_2'\n",
    "index = pd.read_csv('./dataFolder/' + name + '_index.csv')\n",
    "# convert index to timestamp\n",
    "index_tp = index * 1/Fs"
   ]
  },
  {
   "cell_type": "code",
   "execution_count": 5,
   "id": "d3837dff",
   "metadata": {},
   "outputs": [],
   "source": [
    "# read in the whiteNoise stimulus\n",
    "data = pd.read_csv('./dataFolder/' + name + '_RawData.csv')\n",
    "Stim = data['stimulus']\n",
    "\n",
    "# get the first WN repeat \n",
    "start = index.loc[0, :][0]\n",
    "stop = index.loc[0, :][1]\n",
    "WhiteNoise = Stim[start:stop]\n",
    "# reindex the WhiteNoise to reflect in seconds\n",
    "WhiteNoise.index = np.arange(0, len(WhiteNoise))*1/Fs"
   ]
  },
  {
   "cell_type": "code",
   "execution_count": 6,
   "id": "b3b700f0",
   "metadata": {},
   "outputs": [],
   "source": [
    "# get spike timestamp\n",
    "filename = r'G:\\Other computers\\My Computer\\TanviStuff\\PiliferRecordings\\2022_02_04\\m10_whiteNoise_2.txt'\n",
    "T = pd.read_csv(filename, sep = '\\t')\n",
    "tp = T.loc[:,'Timestamp']\n",
    "\n",
    "#loop through all units\n",
    "NumUnits = np.unique(T['Unit'])\n",
    "all_Units = {}\n",
    "for idx, unit in enumerate(NumUnits):\n",
    "    all_Units['unit_' + str(idx)] = T.loc[T['Unit'] == unit, 'Timestamp']\n",
    "    \n",
    "# align the spikes to stimulus repeats\n",
    "all_Units_aligned = {}\n",
    "for k in all_Units.keys():\n",
    "    repeats = getTrialAlignment(index_tp, all_Units[k])\n",
    "    all_Units_aligned[k] = repeats"
   ]
  },
  {
   "cell_type": "code",
   "execution_count": 7,
   "id": "44f247b0",
   "metadata": {},
   "outputs": [],
   "source": [
    "# get prior timestamp\n",
    "\n",
    "import random\n",
    "\n",
    "num_repeats = len(index_tp)\n",
    "num_permuts = 500\n",
    "all_Units_prior = {}\n",
    "for k in all_Units_aligned.keys():\n",
    "    ## decide how many repeats to we want to compute for the prior \n",
    "    ## and also how many spikes in each repeat\n",
    "#     l = []\n",
    "#     for eachRep in all_Units_aligned[k]:\n",
    "#         l.append(len(eachRep))\n",
    "#     num_permuts = int(np.mean(l))  \n",
    "    randomlist = [ [ None for y in range(num_permuts)]\n",
    "             for x in range(num_repeats)]\n",
    "    for jj in range(num_repeats):\n",
    "        for ii in range(num_permuts):\n",
    "            n = random.randint(20*1e-3*Fs,len(WhiteNoise))*1/Fs\n",
    "            randomlist[jj][ii] = n\n",
    "    all_Units_prior[k] = randomlist"
   ]
  },
  {
   "cell_type": "code",
   "execution_count": 8,
   "id": "2439d1c7",
   "metadata": {},
   "outputs": [],
   "source": [
    "# pickle dump the timestamps\n",
    "import pickle\n",
    "\n",
    "saveObject = (all_Units_aligned,all_Units_prior, WhiteNoise)\n",
    "with open('./dataFolder/' + name + '_timeStamps.pickle',\"wb\") as f:\n",
    "    pickle.dump(saveObject, f)"
   ]
  },
  {
   "cell_type": "code",
   "execution_count": null,
   "id": "60a6bed8",
   "metadata": {},
   "outputs": [],
   "source": []
  }
 ],
 "metadata": {
  "kernelspec": {
   "display_name": "Python 3",
   "language": "python",
   "name": "python3"
  },
  "language_info": {
   "codemirror_mode": {
    "name": "ipython",
    "version": 3
   },
   "file_extension": ".py",
   "mimetype": "text/x-python",
   "name": "python",
   "nbconvert_exporter": "python",
   "pygments_lexer": "ipython3",
   "version": "3.6.5"
  }
 },
 "nbformat": 4,
 "nbformat_minor": 5
}
