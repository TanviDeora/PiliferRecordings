{
 "cells": [
  {
   "cell_type": "code",
   "execution_count": 1,
   "id": "4d0545e6",
   "metadata": {},
   "outputs": [],
   "source": [
    "import pandas as pd\n",
    "import numpy as np\n",
    "\n",
    "import scipy.io as sio\n",
    "import matplotlib.pyplot as plt\n",
    "%matplotlib inline\n",
    "import matplotlib\n",
    "matplotlib.rcParams['font.size'] = 8.0\n",
    "matplotlib.rcParams['pdf.fonttype'] = 42"
   ]
  },
  {
   "cell_type": "code",
   "execution_count": 2,
   "id": "9ee29e29",
   "metadata": {},
   "outputs": [],
   "source": [
    "def getEnsembleMeanStd(tps, WhiteNoise, TimeHistory, TimePost = 0):\n",
    "    ensemble = []\n",
    "    for idx, ind in enumerate(tps):\n",
    "        stimulus = WhiteNoise.values[int(ind*Fs-TimeHistory*Fs):int(ind*Fs + TimePost*Fs)]\n",
    "        ensemble.append(stimulus)\n",
    "        df = pd.DataFrame({'data': ensemble})\n",
    "\n",
    "    # the columns are timepoints and rows each new Stimulus history\n",
    "    expand = df.data.apply(pd.Series)\n",
    "    if 660 in list(expand.columns):\n",
    "        expand.drop([660],axis = 1, inplace = True)\n",
    "    mean = expand.mean(axis = 0)\n",
    "    std = expand.std(axis = 0)\n",
    "    return(expand, mean, std)"
   ]
  },
  {
   "cell_type": "code",
   "execution_count": 3,
   "id": "fa74832f",
   "metadata": {},
   "outputs": [],
   "source": [
    "# input all parameters\n",
    "Fs = 3e4\n",
    "TimeHistory = 20e-3 # in seconds\n",
    "TimePost = 2e-3 # in seconds"
   ]
  },
  {
   "cell_type": "code",
   "execution_count": 4,
   "id": "28571214",
   "metadata": {},
   "outputs": [],
   "source": [
    "# read in the timestamps\n",
    "name = 'm10_whiteNoise_2'\n",
    "import pickle\n",
    "filename = './dataFolder/' + name + '_timeStamps.pickle'\n",
    "with open(filename, \"rb\") as f:\n",
    "    testout = pickle.load(f)\n",
    "all_Units_aligned = testout[0]\n",
    "all_Units_prior = testout[1]\n",
    "WhiteNoise = testout[2]"
   ]
  },
  {
   "cell_type": "code",
   "execution_count": 5,
   "id": "72b5f857",
   "metadata": {},
   "outputs": [
    {
     "data": {
      "text/plain": [
       "<Figure size 432x288 with 0 Axes>"
      ]
     },
     "metadata": {},
     "output_type": "display_data"
    },
    {
     "data": {
      "text/plain": [
       "<Figure size 432x288 with 0 Axes>"
      ]
     },
     "metadata": {},
     "output_type": "display_data"
    }
   ],
   "source": [
    "# get the sta and ste\n",
    "ste = {}\n",
    "sta = {}\n",
    "sta_error = {}\n",
    "for k in all_Units_aligned.keys():\n",
    "#     print(k)\n",
    "    unit_tp = np.concatenate(all_Units_aligned[k], axis = 0)\n",
    "    ste[k], sta[k], sta_error[k] = getEnsembleMeanStd(unit_tp, WhiteNoise, TimeHistory, TimePost)\n",
    "\n",
    "    time_axis = np.arange(-TimePost, TimeHistory, 1/Fs)\n",
    "    f = plt.figure()\n",
    "    plt.plot(time_axis, np.flip(sta[k]), 'k')\n",
    "\n",
    "    plt.fill_between(time_axis\n",
    "                     , np.flip(sta[k]-sta_error[k]), np.flip(sta[k]+sta_error[k]))\n",
    "    plt.xlim(0.02, -0.002)\n",
    "    filename = './dataFolder/' + name + '_' + k + '_STA.pdf'\n",
    "    plt.savefig(filename)\n",
    "    plt.clf()"
   ]
  },
  {
   "cell_type": "code",
   "execution_count": 6,
   "id": "a24b6d7c",
   "metadata": {},
   "outputs": [
    {
     "data": {
      "text/plain": [
       "<Figure size 432x288 with 0 Axes>"
      ]
     },
     "metadata": {},
     "output_type": "display_data"
    },
    {
     "data": {
      "text/plain": [
       "<Figure size 432x288 with 0 Axes>"
      ]
     },
     "metadata": {},
     "output_type": "display_data"
    }
   ],
   "source": [
    "prior_ensemble = {}\n",
    "prior_mean = {}\n",
    "prior_error = {}\n",
    "for k in all_Units_prior.keys():\n",
    "    unit_tp = np.concatenate(all_Units_prior[k], axis = 0)\n",
    "    prior_ensemble[k], prior_mean[k], prior_error[k] = getEnsembleMeanStd(unit_tp, WhiteNoise, TimeHistory, TimePost)\n",
    "\n",
    "    time_axis = np.arange(-TimePost, TimeHistory, 1/Fs)\n",
    "    f = plt.figure()\n",
    "    plt.plot(time_axis, np.flip(prior_mean[k]), 'k')\n",
    "\n",
    "    plt.fill_between(time_axis\n",
    "                     , np.flip(prior_mean[k]-prior_error[k])\n",
    "                     , np.flip(prior_mean[k]+prior_error[k]))\n",
    "    plt.xlim(0.02, -0.002)\n",
    "    filename = './dataFolder/' + name + '_' + k + '_prior.pdf'\n",
    "    plt.savefig(filename)\n",
    "    plt.clf()"
   ]
  },
  {
   "cell_type": "code",
   "execution_count": 7,
   "id": "a16d7999",
   "metadata": {},
   "outputs": [
    {
     "data": {
      "image/png": "[encoded data removed]",
      "text/plain": [
       "<Figure size 432x288 with 2 Axes>"
      ]
     },
     "metadata": {
      "needs_background": "light"
     },
     "output_type": "display_data"
    }
   ],
   "source": [
    "# generate the Non-Linear Decision (NLD) functions\n",
    "\n",
    "# projection for ste\n",
    "nld = {}\n",
    "bins = {}\n",
    "f, ax = plt.subplots(1,2)\n",
    "for k in ste.keys():\n",
    "# k = 'unit_3'\n",
    "    num_spikeEvents = len(ste[k])\n",
    "    num_priorEvents = len(prior_ensemble[k])\n",
    "    \n",
    "    projected_ste = np.dot(ste[k].iloc[:,0:600-int(TimePost*Fs)], sta[k][0:600-int(TimePost*Fs)])\n",
    "    projected_prior = np.dot(prior_ensemble[k].iloc[:,0:600-int(TimePost*Fs)], sta[k][0:600-int(TimePost*Fs)])\n",
    "    \n",
    "    \n",
    "    values, bins[k], _ = ax[0].hist([projected_ste, projected_prior], bins = 30, density = True)\n",
    "    nld[k] = values[0]/values[1]\n",
    "    ax[1].plot(bins[k][:-1], nld[k], 'o-')\n",
    "    filename = './dataFolder/' + name + '_' + k + '_NLDS.pdf'\n",
    "    plt.savefig(filename)\n",
    "    ax[0].cla()\n",
    "    ax[1].cla()"
   ]
  },
  {
   "cell_type": "code",
   "execution_count": 8,
   "id": "54f3e796",
   "metadata": {},
   "outputs": [],
   "source": [
    "# # plot a specific nld\n",
    "\n",
    "# k = 'unit_2'\n",
    "# num_spikeEvents = len(ste[k])\n",
    "# plt.plot(bins[k][:-1], final[k])\n",
    "# plt.savefig('./dataFolder/m7_unit3_nld.pdf')"
   ]
  },
  {
   "cell_type": "code",
   "execution_count": 9,
   "id": "d7a0cf42",
   "metadata": {},
   "outputs": [],
   "source": [
    "# # eigen values\n",
    "# normalized_st = {}\n",
    "# st_norm = {}\n",
    "# k = 'unit_2'\n",
    "# normalized_st[k] = ste[k].loc[0:600-int(TimePost*Fs)] - sta[k].loc[0:600-int(TimePost*Fs)]\n",
    "# st_norm[k] = normalized_st[k].loc[:,0:600-int(TimePost*Fs)]\n",
    "# # normalized_prior[k] = ste[k].loc[0:600-int(TimePost*Fs)] - sta[k].loc[0:600-int(TimePost*Fs)]\n",
    "# # st_norm[k] = normalized_st[k].loc[:,0:600-int(TimePost*Fs)]\n",
    "# # for row, s_i in st_norm[k].iterrows():\n",
    "# cov_st = np.cov(st_norm[k])\n",
    "# cov_prior = np.cov(prior_ensemble[k].loc[0:cov_st.shape[1]-1, :])"
   ]
  },
  {
   "cell_type": "code",
   "execution_count": 10,
   "id": "42774dff",
   "metadata": {},
   "outputs": [
    {
     "data": {
      "text/plain": [
       "<Figure size 432x288 with 0 Axes>"
      ]
     },
     "metadata": {},
     "output_type": "display_data"
    },
    {
     "data": {
      "text/plain": [
       "<Figure size 432x288 with 0 Axes>"
      ]
     },
     "metadata": {},
     "output_type": "display_data"
    },
    {
     "data": {
      "image/png": "[encoded data removed]",
      "text/plain": [
       "<Figure size 720x432 with 10 Axes>"
      ]
     },
     "metadata": {
      "needs_background": "light"
     },
     "output_type": "display_data"
    },
    {
     "data": {
      "text/plain": [
       "<Figure size 432x288 with 0 Axes>"
      ]
     },
     "metadata": {},
     "output_type": "display_data"
    },
    {
     "data": {
      "text/plain": [
       "<Figure size 432x288 with 0 Axes>"
      ]
     },
     "metadata": {},
     "output_type": "display_data"
    },
    {
     "data": {
      "image/png": "[encoded data removed]",
      "text/plain": [
       "<Figure size 720x432 with 10 Axes>"
      ]
     },
     "metadata": {
      "needs_background": "light"
     },
     "output_type": "display_data"
    }
   ],
   "source": [
    "from scipy import linalg\n",
    "\n",
    "s ={}\n",
    "vh ={}\n",
    "\n",
    "for k in ste.keys():\n",
    "    rows = np.unique(np.where(np.isnan(ste[k]))[0]) #remove stuff with NaNs\n",
    "    spike_triggered = ste[k].drop(rows, axis = 0)\n",
    "    cov_st = np.cov(np.transpose(spike_triggered), bias = True)\n",
    "\n",
    "    rows = np.unique(np.where(np.isnan(prior_ensemble[k]))[0])\n",
    "    prior = prior_ensemble[k].drop(rows, axis = 0)\n",
    "    cov_prior = np.cov(np.transpose(prior), bias = True)\n",
    "\n",
    "    # plot the covariance matrices\n",
    "    f = plt.figure() # plot covariance matrix\n",
    "    xmin = 0\n",
    "    ymin = 0\n",
    "    dx = 0.25\n",
    "    dy = 1\n",
    "\n",
    "    vmin = np.min([cov_st, cov_prior])\n",
    "    vmax = np.max([cov_st, cov_prior])\n",
    "    \n",
    "    ax0 = f.add_axes([xmin, ymin, dx, dy])\n",
    "    z1 = ax0.imshow(cov_st, vmin = vmin, vmax = vmax)\n",
    "    ax0.invert_yaxis()\n",
    "    plt.colorbar(z1, fraction=0.046, pad=0.04)\n",
    "\n",
    "    ax1 = f.add_axes([xmin + dx + 0.05, ymin, dx, dy])\n",
    "    z2 = ax1.imshow(cov_prior, vmin = vmin, vmax = vmax)\n",
    "    ax1.invert_yaxis()\n",
    "    plt.colorbar(z2, fraction=0.046, pad=0.04)\n",
    "    ax1.set_yticks([])\n",
    "\n",
    "    ax2 = f.add_axes([xmin + 2*dx + 2*0.05, ymin, dx, dy])\n",
    "    z3 = ax2.imshow(cov_st - cov_prior)\n",
    "    ax2.invert_yaxis()\n",
    "    ax2.set_yticks([])\n",
    "    plt.colorbar(z3, fraction=0.046, pad=0.04)\n",
    "\n",
    "    filename = './dataFolder/' + name + '_' + k + '_covarianceMatrix.pdf'\n",
    "    plt.savefig(filename)\n",
    "\n",
    "    plt.clf()\n",
    "\n",
    "    # do svd and the biggest eigenmodes\n",
    "    U, s_, vh_ = linalg.svd(cov_st - cov_prior)\n",
    "    s[k] = s_\n",
    "    vh[k] = vh_\n",
    "    \n",
    "    # plot eigen values\n",
    "    f1 = plt.figure() # plot eigenvalues\n",
    "    plt.plot(s_[0:10]**2, 'o-')\n",
    "    filename = './dataFolder/' + name + '_' + k + '_EigenValues.pdf'\n",
    "    plt.savefig(filename)\n",
    "    plt.clf()\n",
    "\n",
    "    # plot eigen vectors\n",
    "    f2, ax = plt.subplots(5,2, figsize = (10,6)) # plot eigenvectors\n",
    "    ax = ax.ravel()\n",
    "    for idx, axes in enumerate(ax):\n",
    "        time_ax = np.arange(0, len(vh_[idx]))*1/Fs\n",
    "        ax[idx].plot(time_ax, np.flip(vh_[idx]))\n",
    "        ax[idx].set_xlim(0.02, -0.002)\n",
    "    filename = './dataFolder/' + name + '_' + k + '_EigenVectors.pdf'\n",
    "    plt.savefig(filename)\n",
    "    for axes in ax:\n",
    "        axes.cla()"
   ]
  },
  {
   "cell_type": "code",
   "execution_count": 11,
   "id": "e4b63d70",
   "metadata": {},
   "outputs": [],
   "source": [
    "# pickle dump the timestamps\n",
    "import pickle\n",
    "\n",
    "saveObject = (ste, prior_ensemble, nld, bins, s, vh)\n",
    "with open(\"./dataFolder/\" + name + \"_EncodingModel.pickle\",\"wb\") as f:\n",
    "    pickle.dump(saveObject, f)"
   ]
  },
  {
   "cell_type": "code",
   "execution_count": null,
   "id": "70c81b09",
   "metadata": {},
   "outputs": [],
   "source": []
  }
 ],
 "metadata": {
  "kernelspec": {
   "display_name": "Python 3",
   "language": "python",
   "name": "python3"
  },
  "language_info": {
   "codemirror_mode": {
    "name": "ipython",
    "version": 3
   },
   "file_extension": ".py",
   "mimetype": "text/x-python",
   "name": "python",
   "nbconvert_exporter": "python",
   "pygments_lexer": "ipython3",
   "version": "3.6.5"
  }
 },
 "nbformat": 4,
 "nbformat_minor": 5
}
