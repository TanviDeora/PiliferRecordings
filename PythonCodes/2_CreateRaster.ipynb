{
 "cells": [
  {
   "cell_type": "code",
   "execution_count": 1,
   "id": "8f2752c7",
   "metadata": {},
   "outputs": [],
   "source": [
    "import pandas as pd\n",
    "import numpy as np\n",
    "\n",
    "import scipy.io as sio\n",
    "import matplotlib.pyplot as plt\n",
    "%matplotlib inline\n",
    "import matplotlib\n",
    "matplotlib.rcParams['font.size'] = 8.0\n",
    "matplotlib.rcParams['pdf.fonttype'] = 42"
   ]
  },
  {
   "cell_type": "code",
   "execution_count": 2,
   "id": "6168a019",
   "metadata": {},
   "outputs": [],
   "source": [
    "def getTrialAlignment(index, unittp):\n",
    "    repeats = []\n",
    "    for idx_st, idx_stop in zip(index['index_starts'], index['index_stops']):\n",
    "        rep = unittp[(unittp > idx_st) & (unittp < idx_stop)].values\n",
    "        rep = rep - idx_st\n",
    "        repeats.append([rep])\n",
    "    return repeats"
   ]
  },
  {
   "cell_type": "code",
   "execution_count": 3,
   "id": "f39a84e4",
   "metadata": {},
   "outputs": [],
   "source": [
    "# input all parameters\n",
    "Fs = 3e4\n",
    "TimeHistory = 20e-3 # in seconds\n",
    "TimePost = 2e-3 # in seconds"
   ]
  },
  {
   "cell_type": "code",
   "execution_count": 4,
   "id": "12f3d815",
   "metadata": {},
   "outputs": [],
   "source": [
    "# read in the timestamps\n",
    "name = 'm10_whiteNoise_2'\n",
    "import pickle\n",
    "filename = './dataFolder/' + name + '_timeStamps.pickle'\n",
    "with open(filename, \"rb\") as f:\n",
    "    testout = pickle.load(f)\n",
    "all_Units_aligned = testout[0]\n",
    "all_Units_prior = testout[1]\n",
    "WhiteNoise = testout[2]"
   ]
  },
  {
   "cell_type": "code",
   "execution_count": 5,
   "id": "efc3096a",
   "metadata": {},
   "outputs": [
    {
     "data": {
      "text/html": [
       "<div>\n",
       "<style scoped>\n",
       "    .dataframe tbody tr th:only-of-type {\n",
       "        vertical-align: middle;\n",
       "    }\n",
       "\n",
       "    .dataframe tbody tr th {\n",
       "        vertical-align: top;\n",
       "    }\n",
       "\n",
       "    .dataframe thead th {\n",
       "        text-align: right;\n",
       "    }\n",
       "</style>\n",
       "<table border=\"1\" class=\"dataframe\">\n",
       "  <thead>\n",
       "    <tr style=\"text-align: right;\">\n",
       "      <th></th>\n",
       "      <th>index_starts</th>\n",
       "      <th>index_stops</th>\n",
       "    </tr>\n",
       "  </thead>\n",
       "  <tbody>\n",
       "    <tr>\n",
       "      <td>0</td>\n",
       "      <td>1.033533</td>\n",
       "      <td>11.033600</td>\n",
       "    </tr>\n",
       "    <tr>\n",
       "      <td>1</td>\n",
       "      <td>13.057433</td>\n",
       "      <td>23.057500</td>\n",
       "    </tr>\n",
       "    <tr>\n",
       "      <td>2</td>\n",
       "      <td>25.113367</td>\n",
       "      <td>35.113433</td>\n",
       "    </tr>\n",
       "    <tr>\n",
       "      <td>3</td>\n",
       "      <td>37.169267</td>\n",
       "      <td>47.169333</td>\n",
       "    </tr>\n",
       "    <tr>\n",
       "      <td>4</td>\n",
       "      <td>49.225200</td>\n",
       "      <td>59.225267</td>\n",
       "    </tr>\n",
       "    <tr>\n",
       "      <td>5</td>\n",
       "      <td>61.249100</td>\n",
       "      <td>71.249167</td>\n",
       "    </tr>\n",
       "    <tr>\n",
       "      <td>6</td>\n",
       "      <td>73.305033</td>\n",
       "      <td>83.305100</td>\n",
       "    </tr>\n",
       "    <tr>\n",
       "      <td>7</td>\n",
       "      <td>85.360933</td>\n",
       "      <td>95.361000</td>\n",
       "    </tr>\n",
       "    <tr>\n",
       "      <td>8</td>\n",
       "      <td>97.416833</td>\n",
       "      <td>107.416933</td>\n",
       "    </tr>\n",
       "    <tr>\n",
       "      <td>9</td>\n",
       "      <td>109.440767</td>\n",
       "      <td>119.440833</td>\n",
       "    </tr>\n",
       "    <tr>\n",
       "      <td>10</td>\n",
       "      <td>121.496667</td>\n",
       "      <td>131.496733</td>\n",
       "    </tr>\n",
       "    <tr>\n",
       "      <td>11</td>\n",
       "      <td>133.552600</td>\n",
       "      <td>143.552667</td>\n",
       "    </tr>\n",
       "    <tr>\n",
       "      <td>12</td>\n",
       "      <td>145.608500</td>\n",
       "      <td>155.608567</td>\n",
       "    </tr>\n",
       "    <tr>\n",
       "      <td>13</td>\n",
       "      <td>157.632433</td>\n",
       "      <td>167.632500</td>\n",
       "    </tr>\n",
       "    <tr>\n",
       "      <td>14</td>\n",
       "      <td>169.688333</td>\n",
       "      <td>179.688400</td>\n",
       "    </tr>\n",
       "    <tr>\n",
       "      <td>15</td>\n",
       "      <td>181.744267</td>\n",
       "      <td>191.744333</td>\n",
       "    </tr>\n",
       "    <tr>\n",
       "      <td>16</td>\n",
       "      <td>193.800167</td>\n",
       "      <td>203.800233</td>\n",
       "    </tr>\n",
       "    <tr>\n",
       "      <td>17</td>\n",
       "      <td>205.824100</td>\n",
       "      <td>215.824167</td>\n",
       "    </tr>\n",
       "    <tr>\n",
       "      <td>18</td>\n",
       "      <td>217.880000</td>\n",
       "      <td>227.880067</td>\n",
       "    </tr>\n",
       "    <tr>\n",
       "      <td>19</td>\n",
       "      <td>229.935900</td>\n",
       "      <td>239.936000</td>\n",
       "    </tr>\n",
       "    <tr>\n",
       "      <td>20</td>\n",
       "      <td>241.991833</td>\n",
       "      <td>251.991900</td>\n",
       "    </tr>\n",
       "    <tr>\n",
       "      <td>21</td>\n",
       "      <td>254.047733</td>\n",
       "      <td>264.047800</td>\n",
       "    </tr>\n",
       "    <tr>\n",
       "      <td>22</td>\n",
       "      <td>266.103667</td>\n",
       "      <td>276.103733</td>\n",
       "    </tr>\n",
       "    <tr>\n",
       "      <td>23</td>\n",
       "      <td>278.159567</td>\n",
       "      <td>288.159633</td>\n",
       "    </tr>\n",
       "    <tr>\n",
       "      <td>24</td>\n",
       "      <td>290.183500</td>\n",
       "      <td>300.183567</td>\n",
       "    </tr>\n",
       "    <tr>\n",
       "      <td>25</td>\n",
       "      <td>302.239400</td>\n",
       "      <td>312.239467</td>\n",
       "    </tr>\n",
       "    <tr>\n",
       "      <td>26</td>\n",
       "      <td>314.295333</td>\n",
       "      <td>324.295400</td>\n",
       "    </tr>\n",
       "    <tr>\n",
       "      <td>27</td>\n",
       "      <td>326.351233</td>\n",
       "      <td>336.351300</td>\n",
       "    </tr>\n",
       "    <tr>\n",
       "      <td>28</td>\n",
       "      <td>338.375133</td>\n",
       "      <td>348.375233</td>\n",
       "    </tr>\n",
       "    <tr>\n",
       "      <td>29</td>\n",
       "      <td>350.431067</td>\n",
       "      <td>360.431133</td>\n",
       "    </tr>\n",
       "  </tbody>\n",
       "</table>\n",
       "</div>"
      ],
      "text/plain": [
       "    index_starts  index_stops\n",
       "0       1.033533    11.033600\n",
       "1      13.057433    23.057500\n",
       "2      25.113367    35.113433\n",
       "3      37.169267    47.169333\n",
       "4      49.225200    59.225267\n",
       "5      61.249100    71.249167\n",
       "6      73.305033    83.305100\n",
       "7      85.360933    95.361000\n",
       "8      97.416833   107.416933\n",
       "9     109.440767   119.440833\n",
       "10    121.496667   131.496733\n",
       "11    133.552600   143.552667\n",
       "12    145.608500   155.608567\n",
       "13    157.632433   167.632500\n",
       "14    169.688333   179.688400\n",
       "15    181.744267   191.744333\n",
       "16    193.800167   203.800233\n",
       "17    205.824100   215.824167\n",
       "18    217.880000   227.880067\n",
       "19    229.935900   239.936000\n",
       "20    241.991833   251.991900\n",
       "21    254.047733   264.047800\n",
       "22    266.103667   276.103733\n",
       "23    278.159567   288.159633\n",
       "24    290.183500   300.183567\n",
       "25    302.239400   312.239467\n",
       "26    314.295333   324.295400\n",
       "27    326.351233   336.351300\n",
       "28    338.375133   348.375233\n",
       "29    350.431067   360.431133"
      ]
     },
     "execution_count": 5,
     "metadata": {},
     "output_type": "execute_result"
    }
   ],
   "source": [
    "index = pd.read_csv('./dataFolder/' + name + '_index.csv')\n",
    "index_tp = index * 1/Fs\n",
    "index_tp"
   ]
  },
  {
   "cell_type": "code",
   "execution_count": 6,
   "id": "7c0c4d99",
   "metadata": {},
   "outputs": [],
   "source": [
    "data = pd.read_csv('./dataFolder/' + name + '_RawData.csv')\n",
    "Stim = data['stimulus']\n",
    "# Nerve = data['amplifier_channel_sorted']"
   ]
  },
  {
   "cell_type": "code",
   "execution_count": 7,
   "id": "fb10a2cb",
   "metadata": {},
   "outputs": [
    {
     "data": {
      "text/html": [
       "<div>\n",
       "<style scoped>\n",
       "    .dataframe tbody tr th:only-of-type {\n",
       "        vertical-align: middle;\n",
       "    }\n",
       "\n",
       "    .dataframe tbody tr th {\n",
       "        vertical-align: top;\n",
       "    }\n",
       "\n",
       "    .dataframe thead th {\n",
       "        text-align: right;\n",
       "    }\n",
       "</style>\n",
       "<table border=\"1\" class=\"dataframe\">\n",
       "  <thead>\n",
       "    <tr style=\"text-align: right;\">\n",
       "      <th></th>\n",
       "      <th>stimulus</th>\n",
       "    </tr>\n",
       "  </thead>\n",
       "  <tbody>\n",
       "    <tr>\n",
       "      <td>0</td>\n",
       "      <td>-0.001449</td>\n",
       "    </tr>\n",
       "    <tr>\n",
       "      <td>1</td>\n",
       "      <td>-0.000845</td>\n",
       "    </tr>\n",
       "    <tr>\n",
       "      <td>2</td>\n",
       "      <td>-0.002255</td>\n",
       "    </tr>\n",
       "    <tr>\n",
       "      <td>3</td>\n",
       "      <td>-0.000492</td>\n",
       "    </tr>\n",
       "    <tr>\n",
       "      <td>4</td>\n",
       "      <td>-0.000492</td>\n",
       "    </tr>\n",
       "  </tbody>\n",
       "</table>\n",
       "</div>"
      ],
      "text/plain": [
       "   stimulus\n",
       "0 -0.001449\n",
       "1 -0.000845\n",
       "2 -0.002255\n",
       "3 -0.000492\n",
       "4 -0.000492"
      ]
     },
     "execution_count": 7,
     "metadata": {},
     "output_type": "execute_result"
    }
   ],
   "source": [
    "data.head()"
   ]
  },
  {
   "cell_type": "code",
   "execution_count": 8,
   "id": "8547f868",
   "metadata": {},
   "outputs": [],
   "source": [
    "# get the first WN repeat \n",
    "start = index.loc[0, :][0]\n",
    "stop = index.loc[0, :][1]\n",
    "WhiteNoise = Stim[start:stop]"
   ]
  },
  {
   "cell_type": "code",
   "execution_count": 9,
   "id": "761efc6d",
   "metadata": {},
   "outputs": [
    {
     "name": "stdout",
     "output_type": "stream",
     "text": [
      "15649\n"
     ]
    },
    {
     "name": "stderr",
     "output_type": "stream",
     "text": [
      "C:\\Users\\Tanvi\\AppData\\Local\\Continuum\\anaconda3\\lib\\site-packages\\ipykernel_launcher.py:29: UserWarning: FixedFormatter should only be used together with FixedLocator\n",
      "C:\\Users\\Tanvi\\AppData\\Local\\Continuum\\anaconda3\\lib\\site-packages\\ipykernel_launcher.py:31: UserWarning: FixedFormatter should only be used together with FixedLocator\n",
      "C:\\Users\\Tanvi\\AppData\\Local\\Continuum\\anaconda3\\lib\\site-packages\\ipykernel_launcher.py:32: UserWarning: FixedFormatter should only be used together with FixedLocator\n"
     ]
    },
    {
     "name": "stdout",
     "output_type": "stream",
     "text": [
      "15302\n"
     ]
    },
    {
     "name": "stderr",
     "output_type": "stream",
     "text": [
      "C:\\Users\\Tanvi\\AppData\\Local\\Continuum\\anaconda3\\lib\\site-packages\\ipykernel_launcher.py:29: UserWarning: FixedFormatter should only be used together with FixedLocator\n",
      "C:\\Users\\Tanvi\\AppData\\Local\\Continuum\\anaconda3\\lib\\site-packages\\ipykernel_launcher.py:31: UserWarning: FixedFormatter should only be used together with FixedLocator\n",
      "C:\\Users\\Tanvi\\AppData\\Local\\Continuum\\anaconda3\\lib\\site-packages\\ipykernel_launcher.py:32: UserWarning: FixedFormatter should only be used together with FixedLocator\n"
     ]
    },
    {
     "data": {
      "image/png": "[encoded data removed]",
      "text/plain": [
       "<Figure size 1440x720 with 2 Axes>"
      ]
     },
     "metadata": {
      "needs_background": "light"
     },
     "output_type": "display_data"
    }
   ],
   "source": [
    "# get the spikes for each unit and plot accordingly\n",
    "f = plt.figure(figsize=(20,10))\n",
    "axes = f.add_axes([0.1, 0.8, 1, 0.2])\n",
    "axes2 = f.add_axes([0.1, 0, 1, 0.75])\n",
    "\n",
    "for k in all_Units_aligned.keys():\n",
    "    print(len(np.concatenate(all_Units_aligned[k])))\n",
    "    \n",
    "    # figure\n",
    "    axes.plot(np.arange(0,len(WhiteNoise))*1/Fs, WhiteNoise\n",
    "              , color = 'black'\n",
    "              , linewidth = 1\n",
    "             )\n",
    "    axes.set_xticklabels([])\n",
    "    axes.set_ylabel('Motor stimulus (V)', fontsize = 20)\n",
    "\n",
    "    \n",
    "    axes2.eventplot(all_Units_aligned[k]\n",
    "                  ,linelengths = 0.5\n",
    "                 ,lineoffsets = 1\n",
    "                 , linewidth = 1\n",
    "                 , color = 'black'\n",
    "                   )\n",
    "\n",
    "    axes2.set_xlim([0, len(WhiteNoise)*1/Fs])\n",
    "    axes.set_xlim([0, len(WhiteNoise)*1/Fs])\n",
    "\n",
    "    axes2.set_ylabel('Repeats', fontsize = 20)\n",
    "    axes2.set_yticklabels(labels = axes2.get_yticks(), fontsize = 15)\n",
    "    axes2.set_xlabel('Time (seconds)', fontsize = 20)\n",
    "    axes2.set_xticklabels(labels = axes2.get_xticks(), fontsize = 15)\n",
    "    axes.set_yticklabels(labels = axes2.get_yticks(), fontsize = 15)\n",
    "    filename = './dataFolder/' + name + '_' + k + '_raster.pdf'\n",
    "    plt.savefig(filename, bbox_inches = 'tight')\n",
    "    axes.cla()\n",
    "    axes2.cla()"
   ]
  },
  {
   "cell_type": "code",
   "execution_count": 10,
   "id": "1e137804",
   "metadata": {},
   "outputs": [],
   "source": [
    "# save aligned spikes and whiteNoise repeat separately \n",
    "\n",
    "# whiteNoise_single = pd.DataFrame({'WhiteNoise': WhiteNoise})\n",
    "# Unit1 = pd.DataFrame({'repeats_unit1': Spike_repeats_unit1})\n",
    "# Unit2 = pd.DataFrame({'repeats_unit2': Spike_repeats_unit2})"
   ]
  },
  {
   "cell_type": "code",
   "execution_count": 11,
   "id": "89465bf4",
   "metadata": {},
   "outputs": [
    {
     "data": {
      "text/plain": [
       "15302"
      ]
     },
     "execution_count": 11,
     "metadata": {},
     "output_type": "execute_result"
    }
   ],
   "source": [
    "len(np.concatenate(all_Units_aligned[k]))"
   ]
  },
  {
   "cell_type": "code",
   "execution_count": null,
   "id": "c497de90",
   "metadata": {},
   "outputs": [],
   "source": []
  }
 ],
 "metadata": {
  "kernelspec": {
   "display_name": "Python 3",
   "language": "python",
   "name": "python3"
  },
  "language_info": {
   "codemirror_mode": {
    "name": "ipython",
    "version": 3
   },
   "file_extension": ".py",
   "mimetype": "text/x-python",
   "name": "python",
   "nbconvert_exporter": "python",
   "pygments_lexer": "ipython3",
   "version": "3.6.5"
  }
 },
 "nbformat": 4,
 "nbformat_minor": 5
}
